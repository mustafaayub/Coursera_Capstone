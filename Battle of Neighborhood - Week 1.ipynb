{
    "cells": [
        {
            "metadata": {
                "collapsed": true
            },
            "cell_type": "markdown",
            "source": "# Battle of Neighborhood - IBM Capstone Project"
        },
        {
            "metadata": {},
            "cell_type": "markdown",
            "source": "## Week 1 Submission"
        },
        {
            "metadata": {},
            "cell_type": "markdown",
            "source": "---"
        },
        {
            "metadata": {},
            "cell_type": "markdown",
            "source": "# Introduction"
        },
        {
            "metadata": {},
            "cell_type": "markdown",
            "source": "Toronto is the capital city of Ontario and it is the second largest province with a recorded population of  ~6  million in 2020 [^1]. \n\nToronto, a beautiful city, is well known for being a diverse and multicultural city. Almost half its population was born outside Canada. Multiculturalism has proven to be the backbone of Toronto and a key strength. One of the key factors bringing people together in such a multicultural city is variety of food. While a mix of multicultural and ethnic foods remain a bonding factor among people, there are some other food items that are in high demand by everyone; regardless of their ethnicity or background. Let\u2019s take an example - Pizza!!!\n\nAccording to a report by the *Technomic[^2]*, Pizza remains one of the most popular and cravable foods in the foodservice landscape. It is simple food, yet comes with sharable portions, can be enjoyed in the venue, or takeout to the parks / home / birthday & office parties, etc.  \n\n*Footnotes:*  \n[^1]: https://populationstat.com/canada/toronto  \n[^2]: https://www.technomic.com/reports/consumer/consumer-trend-reports/pizza"
        },
        {
            "metadata": {},
            "cell_type": "markdown",
            "source": "## Business Problem"
        },
        {
            "metadata": {},
            "cell_type": "markdown",
            "source": "An investor who recently moved to Canada from Europe is willing to invest in a food business that is liked by majority of Canadians; regardless of their ethnic background. After doing some research, he has decided that Pizza shop would be an ideal option, but would like to know where is the best location to open up his Pizza shop in Toronto. \n\nThough this capstone project, I will leverage my data science knowledge gained throughout the course along with key data (Wikipedia and Foursquare API) to identify where would be an ideal location for a pizza shop.  "
        },
        {
            "metadata": {},
            "cell_type": "markdown",
            "source": "## Target Audience"
        },
        {
            "metadata": {},
            "cell_type": "markdown",
            "source": "*      The investor who is willing to invest in Toronto to open up the pizza shop  \n*      Data analysts and Data scientists who may leverage the analysis for other similar projects  \n*      Anyone interested in finding more about the Toronto neighborhoods and what it has to offer"
        },
        {
            "metadata": {},
            "cell_type": "markdown",
            "source": "## Data Requirement"
        },
        {
            "metadata": {},
            "cell_type": "markdown",
            "source": "In order to complete this analysis, we would need access to the data from reliable sources. Having gone through week3 assignment and being introduced to the following reliable sources of the data, I will be using them throughout the Capstone project.   \n\n\n**1.\tList of Postal code of Canada: M:**  [List of Postal Codes](https://en.wikipedia.org/wiki/List_of_postal_codes_of_Canada:_M)   \nThis data source is Wikipedia. The data is in a tabular format and we can use different techniques (i.e., BeautifulSoup) to retrieve the information form the Wikipedia table. This data will help provide the list of the following Pieces of information:  \n* Postal Code\n* Borough Name\n* Neighborhood Name\n    \n---\n\n\n**2.\tGeographical coordinates of Toronto:**  [Geospatial_data](https://cocl.us/Geospatial_data)  \nThis data (.cvs file) will allow us to obtain the geospatial coordinates of each borough that will help us during our data analysis along with the data obtained from Wikipedia and Foursquare API. This file will allow us to pull the following info:    \n* Postal Code\n* Latitude\n* Longitude\n\n---\n\n**3.\tFrom Foursquare API:**  [Foursquare API](https://developer.foursquare.com/docs)  \nFoursquare is a social location service that allows users to explore the world around them. The Foursquare API allows application developers to interact with the Foursquare platform and obtain necessary info; i.e., pull a list of venues along with its features, etc. For this project, I will be interested more into the following data fields (just to name a few) in order to be able to navigate through Toronto, build clusters, etc.:  \n\n* Neighborhood\n* Neighborhood Latitude and Longitude\n* Venue\n* Venue category, etc."
        },
        {
            "metadata": {},
            "cell_type": "code",
            "source": "",
            "execution_count": null,
            "outputs": []
        }
    ],
    "metadata": {
        "kernelspec": {
            "name": "python3",
            "display_name": "Python 3.7",
            "language": "python"
        },
        "language_info": {
            "name": "python",
            "version": "3.7.9",
            "mimetype": "text/x-python",
            "codemirror_mode": {
                "name": "ipython",
                "version": 3
            },
            "pygments_lexer": "ipython3",
            "nbconvert_exporter": "python",
            "file_extension": ".py"
        }
    },
    "nbformat": 4,
    "nbformat_minor": 1
}